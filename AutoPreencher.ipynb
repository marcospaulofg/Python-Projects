{
 "cells": [
  {
   "cell_type": "code",
   "execution_count": 1,
   "id": "ee3f8d72",
   "metadata": {},
   "outputs": [],
   "source": [
    "#pip install pyautogui\n",
    "#pip install keyboard"
   ]
  },
  {
   "cell_type": "code",
   "execution_count": 2,
   "id": "928df316",
   "metadata": {},
   "outputs": [],
   "source": [
    "import pyautogui as pg\n",
    "import keyboard as key"
   ]
  },
  {
   "cell_type": "code",
   "execution_count": null,
   "id": "24f34a8b",
   "metadata": {},
   "outputs": [],
   "source": [
    "# Copiar e colar entre células do Excel e outra plataforma, como APSDU\n",
    "\n",
    "pg.PAUSE = 0.6  # tempo em segundos entre cada comando\n",
    "pg.hotkey('alt','tab')\n",
    "pg.hotkey('ctrl','c')\n",
    "pg.keyDown('alt')\n",
    "pg.press('tab')\n",
    "pg.press('tab')\n",
    "pg.keyUp('alt')\n",
    "\n",
    "while True:\n",
    "    pg.press('enter')\n",
    "    pg.hotkey('ctrl','v')\n",
    "    pg.press('down')\n",
    "    pg.hotkey('alt','tab')\n",
    "    pg.press('down')\n",
    "    pg.hotkey('ctrl','c')\n",
    "    pg.hotkey('alt','tab')\n",
    "    if key.is_pressed(\"w\"): #  Parar a operação apertando W no teclado\n",
    "        break"
   ]
  },
  {
   "cell_type": "code",
   "execution_count": 4,
   "id": "6a13abd0",
   "metadata": {},
   "outputs": [],
   "source": [
    "# Preencher uma coluna interna com apenas um valor\n",
    "\n",
    "pg.PAUSE = 0.05\n",
    "pg.hotkey('alt','tab')\n",
    "\n",
    "while True:\n",
    "    pg.press('A')\n",
    "    pg.press('enter')\n",
    "    if key.is_pressed(\"w\"):\n",
    "        break"
   ]
  }
 ],
 "metadata": {
  "kernelspec": {
   "display_name": "Python 3 (ipykernel)",
   "language": "python",
   "name": "python3"
  },
  "language_info": {
   "codemirror_mode": {
    "name": "ipython",
    "version": 3
   },
   "file_extension": ".py",
   "mimetype": "text/x-python",
   "name": "python",
   "nbconvert_exporter": "python",
   "pygments_lexer": "ipython3",
   "version": "3.11.7"
  }
 },
 "nbformat": 4,
 "nbformat_minor": 5
}
