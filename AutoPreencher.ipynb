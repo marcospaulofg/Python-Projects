{
 "cells": [
  {
   "cell_type": "code",
   "execution_count": 1,
   "id": "ee3f8d72",
   "metadata": {},
   "outputs": [
    {
     "name": "stdout",
     "output_type": "stream",
     "text": [
      "^C\n"
     ]
    }
   ],
   "source": [
    "!pip install pyautogui"
   ]
  },
  {
   "cell_type": "code",
   "execution_count": 2,
   "id": "02d4fe0a",
   "metadata": {},
   "outputs": [
    {
     "name": "stdout",
     "output_type": "stream",
     "text": [
      "^C\n",
      "Note: you may need to restart the kernel to use updated packages.\n"
     ]
    }
   ],
   "source": [
    "pip install keyboard"
   ]
  },
  {
   "cell_type": "code",
   "execution_count": 1,
   "id": "928df316",
   "metadata": {},
   "outputs": [],
   "source": [
    "import pyautogui as p"
   ]
  },
  {
   "cell_type": "code",
   "execution_count": 2,
   "id": "c6c271ac",
   "metadata": {},
   "outputs": [],
   "source": [
    "import keyboard as k"
   ]
  },
  {
   "cell_type": "code",
   "execution_count": null,
   "id": "24f34a8b",
   "metadata": {},
   "outputs": [],
   "source": [
    "p.PAUSE = 0.6\n",
    "p.hotkey('alt','tab')\n",
    "p.hotkey('ctrl','c')\n",
    "p.keyDown('alt')\n",
    "p.press('tab')\n",
    "p.press('tab')\n",
    "p.keyUp('alt')\n",
    "\n",
    "while True:\n",
    "    p.press('enter')\n",
    "    p.hotkey('ctrl','v')\n",
    "    p.press('down')\n",
    "    p.hotkey('alt','tab')\n",
    "    p.press('down')\n",
    "    p.hotkey('ctrl','c')\n",
    "    p.hotkey('alt','tab')\n",
    "    if k.is_pressed(\"w\"):\n",
    "        break"
   ]
  },
  {
   "cell_type": "code",
   "execution_count": 6,
   "id": "70ef16a8",
   "metadata": {},
   "outputs": [],
   "source": [
    "p.PAUSE = 0.4\n",
    "p.hotkey('alt','tab')\n",
    "\n",
    "while True:\n",
    "    p.press('enter')\n",
    "    p.hotkey('ctrl','v')\n",
    "    p.press('right')\n",
    "    p.press('enter')\n",
    "    p.hotkey('ctrl','v')\n",
    "    p.press('up')\n",
    "    p.press('enter')\n",
    "    p.hotkey('ctrl','v')\n",
    "    p.press('left')\n",
    "    p.press('enter')\n",
    "    p.hotkey('ctrl','v')\n",
    "    \n",
    "    p.press('up')\n",
    "    if k.is_pressed(\"w\"):\n",
    "        break"
   ]
  },
  {
   "cell_type": "code",
   "execution_count": 4,
   "id": "6a13abd0",
   "metadata": {},
   "outputs": [],
   "source": [
    "p.PAUSE = 0.05\n",
    "p.hotkey('alt','tab')\n",
    "\n",
    "while True:\n",
    "    p.press('A')\n",
    "    p.press('enter')\n",
    "    if k.is_pressed(\"w\"):\n",
    "        break"
   ]
  },
  {
   "cell_type": "markdown",
   "id": "02b760b2",
   "metadata": {},
   "source": []
  },
  {
   "cell_type": "code",
   "execution_count": null,
   "id": "b7048ddc-77b3-40dd-801c-b277b62c4f0b",
   "metadata": {},
   "outputs": [],
   "source": []
  }
 ],
 "metadata": {
  "kernelspec": {
   "display_name": "Python 3 (ipykernel)",
   "language": "python",
   "name": "python3"
  },
  "language_info": {
   "codemirror_mode": {
    "name": "ipython",
    "version": 3
   },
   "file_extension": ".py",
   "mimetype": "text/x-python",
   "name": "python",
   "nbconvert_exporter": "python",
   "pygments_lexer": "ipython3",
   "version": "3.11.7"
  }
 },
 "nbformat": 4,
 "nbformat_minor": 5
}
