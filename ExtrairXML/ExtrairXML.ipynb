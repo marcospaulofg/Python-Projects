{
 "cells": [
  {
   "cell_type": "markdown",
   "id": "cc483cfc-7fd4-4098-bc0d-a58aa6c922b3",
   "metadata": {},
   "source": [
    "# Extrair XML"
   ]
  },
  {
   "cell_type": "markdown",
   "id": "9cd83aa2-907e-4d73-97a9-f79c36760897",
   "metadata": {},
   "source": [
    "Script que extrai informações de um arquivo .xml de notas fiscais."
   ]
  },
  {
   "cell_type": "code",
   "execution_count": null,
   "id": "a52bfa52-5ce7-4af8-a40f-83cf4215e1fc",
   "metadata": {},
   "outputs": [],
   "source": [
    "#!pip install xmltodict"
   ]
  },
  {
   "cell_type": "code",
   "execution_count": 1,
   "id": "0c301786-a1fc-4fc4-a23f-a3405412c603",
   "metadata": {},
   "outputs": [],
   "source": [
    "# Import das bibliotecas necessárias\n",
    "import xmltodict\n",
    "import pandas as pd\n",
    "import warnings\n",
    "warnings.filterwarnings('ignore')"
   ]
  },
  {
   "cell_type": "code",
   "execution_count": null,
   "id": "72842d9d-020a-4a1e-8b9b-96ce611f6221",
   "metadata": {},
   "outputs": [],
   "source": [
    "df = pd.read_excel('C:/Users/NipoCD/Documents/Python/Xml/Relatorio Xml Cofre SIEG - 15.08.24 08 22.xlsx')\n",
    "df.tail(1)"
   ]
  },
  {
   "cell_type": "code",
   "execution_count": null,
   "id": "931bef89-8e1f-4b85-8bf7-39b4e9114138",
   "metadata": {},
   "outputs": [],
   "source": [
    "df['Hora'] = 0\n",
    "for i in df.index:\n",
    "    caminho = 'C:/Users/NipoCD/Documents/Python/Xml/9bW9l7xw/'+str(df['Num NFe'][i])+'.xml'\n",
    "\n",
    "    with open(caminho, 'rb') as arqxml:\n",
    "        dicxml = xmltodict.parse(arqxml)\n",
    "        \n",
    "    df['Hora'][i] = dicxml['nfeProc']['protNFe']['infProt']['dhRecbto'][11:19]\n",
    "#df.to_csv(r'C:/1/XML.csv', index = False, encoding = 'utf-8-sig')\n",
    "df = df[['Num NFe', 'Valor', 'Data Emissão', 'Hora', 'CNPJ Emit', 'Nome Fant. Emit', 'Razão Soc. Emit',\n",
    "         'CNPJ Dest', 'Nome Fant. Dest', 'Razão Soc. Dest', 'Chave da NFe', 'Status']]\n",
    "df.head()"
   ]
  },
  {
   "cell_type": "code",
   "execution_count": null,
   "id": "3525c554-152a-44e5-9135-27d036655572",
   "metadata": {},
   "outputs": [],
   "source": []
  },
  {
   "cell_type": "code",
   "execution_count": null,
   "id": "748c144a-f754-4704-b4ff-70c1a820510d",
   "metadata": {},
   "outputs": [],
   "source": []
  },
  {
   "cell_type": "code",
   "execution_count": null,
   "id": "40ee36f4-83ea-4922-9ed4-52b537018404",
   "metadata": {},
   "outputs": [],
   "source": []
  },
  {
   "cell_type": "code",
   "execution_count": null,
   "id": "1cfe2d10-2bb0-43b6-a6b1-96e01167bc46",
   "metadata": {},
   "outputs": [],
   "source": [
    "from lxml import etree"
   ]
  },
  {
   "cell_type": "code",
   "execution_count": null,
   "id": "c31d031c-24c6-4c21-820d-fad2ad4c47f6",
   "metadata": {},
   "outputs": [],
   "source": [
    "tree = etree.parse(\"C:/Users/NipoCD/Desktop/XML CD/11_000068246_20241001.xml\")"
   ]
  },
  {
   "cell_type": "code",
   "execution_count": null,
   "id": "e6d68f9b-4e5d-42b0-866c-b07f3de6651b",
   "metadata": {},
   "outputs": [],
   "source": [
    "elemento = tree.xpath(\"//text()\")"
   ]
  },
  {
   "cell_type": "code",
   "execution_count": null,
   "id": "f9a538ee-c561-44e2-88bc-80aaa5adc47a",
   "metadata": {},
   "outputs": [],
   "source": [
    "print(elemento[0].text)"
   ]
  },
  {
   "cell_type": "code",
   "execution_count": null,
   "id": "5cf87d34-0aa7-4bfb-afa9-2af895a53f65",
   "metadata": {},
   "outputs": [],
   "source": []
  },
  {
   "cell_type": "code",
   "execution_count": null,
   "id": "260acc7a-3c35-45be-95a4-a2fd8857aef7",
   "metadata": {},
   "outputs": [],
   "source": []
  },
  {
   "cell_type": "code",
   "execution_count": null,
   "id": "8a53557b-9ab0-459f-95de-8aba5ea575fc",
   "metadata": {},
   "outputs": [],
   "source": []
  },
  {
   "cell_type": "code",
   "execution_count": 4,
   "id": "f184eb4b-4696-4b43-b650-51e328179599",
   "metadata": {},
   "outputs": [],
   "source": [
    "import os"
   ]
  },
  {
   "cell_type": "code",
   "execution_count": null,
   "id": "0425b22c-b554-4e6d-affb-fe5d2e958a08",
   "metadata": {},
   "outputs": [],
   "source": [
    "lista=[]\n",
    "for arq in os.listdir('C:/Users/NipoCD/Desktop/XML CD PIMENTAO'):\n",
    "    a=[]\n",
    "    with open('C:/Users/NipoCD/Desktop/XML CD PIMENTAO/'+arq, 'r') as f:\n",
    "        a = f.read()\n",
    "    f.closed\n",
    "    lista.append([a[a.find('<dhRecbto>')+len('<dhRecbto>')+11:a.find('<dhRecbto>')+len('<dhRecbto>')+19],\n",
    "                  a[a.find('<nNF>')+len('<nNF>'):a.find('<nNF>')+len('<nNF>')+5]])\n",
    "lista"
   ]
  },
  {
   "cell_type": "code",
   "execution_count": null,
   "id": "0d675c75-a6d7-46ad-aec5-11b40bc26179",
   "metadata": {},
   "outputs": [],
   "source": [
    "lista=[]\n",
    "for arq in os.listdir('C:/Users/NipoCD/Desktop/XML LOJA PIMENTAO'):\n",
    "    a=[]\n",
    "    with open('C:/Users/NipoCD/Desktop/XML LOJA PIMENTAO/'+arq, 'r') as f:\n",
    "        a = f.read()\n",
    "    f.closed\n",
    "    lista.append([a[a.find('<dhRecbto>')+len('<dhRecbto>')+11:a.find('<dhRecbto>')+len('<dhRecbto>')+19],\n",
    "                  a[a.find('<nNF>')+len('<nNF>'):a.find('<nNF>')+len('<nNF>')+6]])\n",
    "lista"
   ]
  },
  {
   "cell_type": "code",
   "execution_count": 50,
   "id": "525008ae-4b29-4783-a43b-43a4a4f5aaf6",
   "metadata": {
    "scrolled": true
   },
   "outputs": [
    {
     "data": {
      "text/plain": [
       "[('377', 'BERINJELA RAJADA'),\n",
       " ('257', 'BERINJELA BABY'),\n",
       " ('280', 'ALHO PORO'),\n",
       " ('122', 'MACA GALA'),\n",
       " ('123', 'MACA FUJI CAT 1'),\n",
       " ('189', 'SALSA CRESPA'),\n",
       " ('84', 'ERVILHA'),\n",
       " ('59', 'BROCOLIS AMERICANA'),\n",
       " ('259', 'TANGERINA MORCOTE'),\n",
       " ('47', 'ATEMOIA'),\n",
       " ('142', 'MELAO ORANGE'),\n",
       " ('12', 'AIPIM'),\n",
       " ('453', 'ALHO ROXO IMPORTADO TIPO 7 9,5KG'),\n",
       " ('200', 'TOMATE'),\n",
       " ('66', 'CARAMBOLA'),\n",
       " ('1', 'ABACATE'),\n",
       " ('178', 'PIMENTAO VERDE'),\n",
       " ('201', 'TOMATE CARMEM'),\n",
       " ('17', 'ALFACE CRESPA ROXA'),\n",
       " ('166', 'PERA WILLIANS G'),\n",
       " ('114', 'LARANJA BAHIA NACIONAL'),\n",
       " ('130', 'MANGA TOMMY'),\n",
       " ('127', 'MAMAO FORMOSA'),\n",
       " ('357', 'ALFACE ROXO'),\n",
       " ('110', 'COUVE MANTEIGA'),\n",
       " ('175', 'MANGA ESPADA'),\n",
       " ('91', 'COGUMELO'),\n",
       " ('15', 'ABOBORA MORANGA'),\n",
       " ('248', 'UVA ITALIA EMBALADA'),\n",
       " ('176', 'PIMENTAO VERMELHO'),\n",
       " ('267', 'MELAO REI'),\n",
       " ('259', 'MORCOTE'),\n",
       " ('113', 'KIWI IMPORTADO'),\n",
       " ('288', 'CENOURA AA'),\n",
       " ('202', 'MAXIXE'),\n",
       " ('6', 'ABOBORA JAPONESA'),\n",
       " ('9', 'ACELGA'),\n",
       " ('122', 'MACA GALA T150'),\n",
       " ('284', 'SAQUE AZUMA GARRAFA 740M'),\n",
       " ('296', 'TOMATE EXTRA B'),\n",
       " ('156', 'OVOS BRANCO TIPO B 30X1'),\n",
       " ('192', 'SHIMEJI 200 GRS'),\n",
       " ('167', 'PESSEGO IMPORTADO'),\n",
       " ('255', 'BANANA PRATA ORGANICA'),\n",
       " ('368', 'MELANCIA AMARELA'),\n",
       " ('185', 'REPOLHO ROXO'),\n",
       " ('198', 'TOMATE CEREJA'),\n",
       " ('50', 'BERINJELA'),\n",
       " ('245', 'TOMATE GRAPE'),\n",
       " ('69', 'CEBOLA NACIONAL'),\n",
       " ('90', 'GENGIBRE'),\n",
       " ('104', 'COGUMELO FRESCO'),\n",
       " ('117', 'LIMA DA PERSIA'),\n",
       " ('163', 'PEPINO'),\n",
       " ('331', 'OVOS GRANDE BCO EMB 20 DZS'),\n",
       " ('83', 'COUVE FLOR'),\n",
       " ('147', 'MORANGO 4X1'),\n",
       " ('46', 'ASPARGO'),\n",
       " ('16', 'ALFACE CRESPA'),\n",
       " ('219', 'VAGEM MACARRAO'),\n",
       " ('77', 'CHICORIA'),\n",
       " ('260', 'RUCULA'),\n",
       " ('38', 'BATATA INGLESA'),\n",
       " ('156', 'OVOS GR BR BAJ30 UND/FILM CX25 DZ'),\n",
       " ('225', 'OVOS EXTRA BRANCO 30X1'),\n",
       " ('367', 'MACA GALA CAT 3'),\n",
       " ('119', 'LIMAO'),\n",
       " ('251', 'UVA THOMPSON 10X1'),\n",
       " ('78', 'CHUCHU'),\n",
       " ('37', 'BATATA DOCE'),\n",
       " ('177', 'PIMENTAO AMARELO'),\n",
       " ('173', 'MACA SENINHA'),\n",
       " ('103', 'HORTELA'),\n",
       " ('52', 'BERINGELA CONSERVA'),\n",
       " ('20', 'ALHO'),\n",
       " ('351', 'MELANCIA BABY'),\n",
       " ('24', 'AMEIXA RUBI'),\n",
       " ('361', 'ALMEIRAO'),\n",
       " ('13', 'ALECRIM'),\n",
       " ('55', 'CAQUI RAMA FORTE'),\n",
       " ('229', 'PERA PORTUGUESA'),\n",
       " ('81', 'COCO VERDE'),\n",
       " ('79', 'YAKON'),\n",
       " ('278', 'MACA GALA T165'),\n",
       " ('419', 'CENOURA 3A SACO 20KG'),\n",
       " ('231', 'PESSEGO NACIONAL'),\n",
       " ('27', 'BANANA D AGUA'),\n",
       " ('250', 'UVA RED GLOBE'),\n",
       " ('126', 'MAMAO HAVAI'),\n",
       " ('289', 'BATATA MARQUES'),\n",
       " ('243', 'TOFU'),\n",
       " ('82', 'COENTRO'),\n",
       " ('206', 'TOMATE PIZZADORO'),\n",
       " ('842', 'COUVE MINEIRA'),\n",
       " ('271', 'MILHO VERDE EMB - CX C/15 BAND'),\n",
       " ('45', 'BATATA ASTERIX'),\n",
       " ('847', 'RAIZ DE BARDANA'),\n",
       " ('152', 'LARANJA SELETA'),\n",
       " ('105', 'INHAME'),\n",
       " ('263', 'MACA NACIONAL'),\n",
       " ('226', 'OVOS DE CODORNA - CX C/50 DZA - BJ C/30'),\n",
       " ('256', 'OVOS DE CODORNA'),\n",
       " ('162', 'LICHIA EM CALDA'),\n",
       " ('140', 'MELAO PELE DE SAPO'),\n",
       " ('208', 'MORANGO FOUNDEE'),\n",
       " ('116', 'DILL (ANETO)'),\n",
       " ('276', 'MACA FUJI'),\n",
       " ('56', 'CARA'),\n",
       " ('57', 'CHEIRO VERDE'),\n",
       " ('144', 'MILHO VERDE EMB -'),\n",
       " ('123', 'MACA FUJI'),\n",
       " ('106', 'COGUMELO PARIS'),\n",
       " ('8', 'ABOBRINHA'),\n",
       " ('62', 'BROTO DE FEIJAO'),\n",
       " ('31', 'AIPO'),\n",
       " ('64', 'CAPIM LIMAO'),\n",
       " ('356', 'BANANA FIGO'),\n",
       " ('63', 'CAJU'),\n",
       " ('11', 'ABOBORA BRANCA'),\n",
       " ('273', 'NECTARINA IMPORTADA'),\n",
       " ('227', 'OVOS VERMELHO EMB CX C/20 DZS'),\n",
       " ('274', 'UVA ITALIA 10X1'),\n",
       " ('121', 'LIMAO SICILIANO'),\n",
       " ('214', 'UVA VITORIA'),\n",
       " ('155', 'OVOS BR EMB. CX C/20DZ-BJ C/12'),\n",
       " ('144', 'MILHO VERDE EMB - CX C/10 BAND'),\n",
       " ('241', 'TANGERINA BERGAMOTA'),\n",
       " ('158', 'OVO VERM. DA ROCA-CX/20 DZ'),\n",
       " ('128', 'ESPINAFRE'),\n",
       " ('26', 'BANANA PRATA'),\n",
       " ('164', 'LOURO'),\n",
       " ('54', 'BETERRABA'),\n",
       " ('452', 'ALHO ROXO IMPORTADO TIPO 6 9,5KG'),\n",
       " ('196', 'MURCOT TANGERINA'),\n",
       " ('216', 'UVA RUBI'),\n",
       " ('125', 'MACA GRANSMITH'),\n",
       " ('8', 'ABOBRINHA ITALIANA'),\n",
       " ('72', 'CEBOLETE'),\n",
       " ('275', 'TANGERINA BERGAMOTA'),\n",
       " ('210', 'TOMILHO'),\n",
       " ('61', 'BROTO DE ALFAFA'),\n",
       " ('70', 'CEBOLA CONSERVA'),\n",
       " ('135', 'MANJERICAO'),\n",
       " ('252', 'UVA ROSADA'),\n",
       " ('165', 'PEPINO JAPONES'),\n",
       " ('23', 'ABOBRINHA ITALIANA'),\n",
       " ('203', 'TOMATE ITALIANO'),\n",
       " ('85', 'ERVILHA (NATURA)'),\n",
       " ('283', 'ARROZ JAPONES YANAGI 5KG'),\n",
       " ('184', 'REPOLHO VERDE'),\n",
       " ('151', 'LARANJA LIMA'),\n",
       " ('22', 'ALHO PORO'),\n",
       " ('261', 'MILHO VERDE SACO'),\n",
       " ('60', 'BROCOLIS'),\n",
       " ('193', 'SHITAKE FRESCO'),\n",
       " ('42', 'AMEIXA IMPORTADA'),\n",
       " ('181', 'QUIABO SOLTO'),\n",
       " ('212', 'UVA ITALIA'),\n",
       " ('21', 'ALHO BRANCO'),\n",
       " ('188', 'SALSA'),\n",
       " ('41', 'BATATA CALABRESA'),\n",
       " ('292', 'ABOBORA BATA'),\n",
       " ('67', 'CEBOLA'),\n",
       " ('375', 'ABOBORA MADURA'),\n",
       " ('36', 'AMEIXA'),\n",
       " ('286', 'FUNGHI SECO'),\n",
       " ('137', 'KIWI NACIONAL'),\n",
       " ('96', 'GOIABA'),\n",
       " ('143', 'MELAO AMARELO'),\n",
       " ('136', 'MARACUJA'),\n",
       " ('238', 'RUCULA HIDROPONICA'),\n",
       " ('10', 'ABOBORA BAIANA'),\n",
       " ('150', 'NECTARINA'),\n",
       " ('209', 'NABO'),\n",
       " ('139', 'MELANCIA'),\n",
       " ('383', 'OVO BRANCO FILMADO 10 CART. C/20'),\n",
       " ('205', 'MELAO GALIA'),\n",
       " ('182', 'QUIABO EMBALADO'),\n",
       " ('180', 'PONKAN'),\n",
       " ('73', 'CEBOLINHA'),\n",
       " ('14', 'ALFACE'),\n",
       " ('179', 'PINHA'),\n",
       " ('5', 'ABOBORA SERGIPANA'),\n",
       " ('25', 'AGRIAO'),\n",
       " ('376', 'BERINJELA RAJADA'),\n",
       " ('249', 'UVA ITALIA MUSCAT'),\n",
       " ('297', 'MORANGO FONDUE  BANDEJA'),\n",
       " ('236', 'RUCULA'),\n",
       " ('374', 'BATATA MIUDA P45'),\n",
       " ('272', 'LARANJA BAHIA IMPORTADA'),\n",
       " ('4', 'ABACAXI'),\n",
       " ('211', 'UVA SEM CAROCO 500G'),\n",
       " ('154', 'OVOS'),\n",
       " ('28', 'BANANA DA TERRA'),\n",
       " ('204', 'MELAO CANTALOUPE'),\n",
       " ('97', 'GRAO DE BICO'),\n",
       " ('147', 'MORANGO BANDEJA'),\n",
       " ('18', 'ALFACE AMERICANA'),\n",
       " ('95', 'GOBO'),\n",
       " ('66', 'CARAMBOLA 4X1'),\n",
       " ('235', 'RABANETE'),\n",
       " ('170', 'MAC.BIFUM'),\n",
       " ('285', 'ALHO DESCASCADO'),\n",
       " ('34', 'BATATA BAROA'),\n",
       " ('129', 'FIGO ROXO'),\n",
       " ('183', 'QUIABO'),\n",
       " ('279', 'PESSEGO IMPORTADO'),\n",
       " ('295', 'ERVA DOCE'),\n",
       " ('109', 'JILO'),\n",
       " ('442', 'CENOURA SEKITA 3A SACO 20KG'),\n",
       " ('359', 'BERTALHA'),\n",
       " ('71', 'CEBOLA ARGENTINA'),\n",
       " ('287', 'GUIOZA'),\n",
       " ('99', 'HARUMAKI MASSA  C/36UND TAICHI'),\n",
       " ('247', 'UVA BENITAKA EMBALADA'),\n",
       " ('148', 'NABO COMPRIDO'),\n",
       " ('80', 'COCO SECO'),\n",
       " ('131', 'MANGA PALMER'),\n",
       " ('115', 'LARANJA PERA'),\n",
       " ('68', 'CEBOLA ROXA'),\n",
       " ('218', 'VAGEM MANTEIGA'),\n",
       " ('75', 'CENOURA'),\n",
       " ('195', 'TANGERINA IMPORTADA'),\n",
       " ('251', 'UVA THOMPSON'),\n",
       " ('258', 'MACA GALA CAT 1')]"
      ]
     },
     "execution_count": 50,
     "metadata": {},
     "output_type": "execute_result"
    }
   ],
   "source": [
    "import xml.etree.ElementTree as ET\n",
    "import os\n",
    "lista = []\n",
    "\n",
    "for arq in os.listdir('C:/Users/NipoCD/Desktop/xml'):\n",
    "    tree = ET.parse('C:/Users/NipoCD/Desktop/xml/'+arq)\n",
    "    root = tree.getroot()\n",
    "    \n",
    "    ns = {'nfe': 'http://www.portalfiscal.inf.br/nfe'}\n",
    "     \n",
    "    for det in root.findall('.//nfe:det', ns):\n",
    "        quantidade = det.find('.//nfe:qCom', ns).text\n",
    "        Cod = det.find('.//nfe:cProd', ns).text\n",
    "        Prod = det.find('.//nfe:xProd', ns).text\n",
    "        lista.append((Cod, Prod))\n",
    "lista_sem_duplicatas = list(set(lista))\n",
    "lista_sem_duplicatas"
   ]
  },
  {
   "cell_type": "code",
   "execution_count": 43,
   "id": "3a7e7bde-9ca3-4a7b-b787-2da081e023b5",
   "metadata": {},
   "outputs": [],
   "source": [
    "lista = [(1,1), (1,1),(2,2), (3,3), (3,3), (4,4), (5,1), (5,1), 1]\n",
    "lista_sem_duplicatas = list(set(lista))"
   ]
  },
  {
   "cell_type": "code",
   "execution_count": 44,
   "id": "de3d57e9-5d40-49dc-9367-b2063550b1a9",
   "metadata": {},
   "outputs": [
    {
     "data": {
      "text/plain": [
       "[(4, 4), 1, (1, 1), (5, 1), (3, 3), (2, 2)]"
      ]
     },
     "execution_count": 44,
     "metadata": {},
     "output_type": "execute_result"
    }
   ],
   "source": [
    "lista_sem_duplicatas"
   ]
  },
  {
   "cell_type": "code",
   "execution_count": null,
   "id": "3bbc5f31-b48d-4aaf-b547-24f975a9b632",
   "metadata": {},
   "outputs": [],
   "source": []
  }
 ],
 "metadata": {
  "kernelspec": {
   "display_name": "Python 3 (ipykernel)",
   "language": "python",
   "name": "python3"
  },
  "language_info": {
   "codemirror_mode": {
    "name": "ipython",
    "version": 3
   },
   "file_extension": ".py",
   "mimetype": "text/x-python",
   "name": "python",
   "nbconvert_exporter": "python",
   "pygments_lexer": "ipython3",
   "version": "3.11.7"
  }
 },
 "nbformat": 4,
 "nbformat_minor": 5
}
