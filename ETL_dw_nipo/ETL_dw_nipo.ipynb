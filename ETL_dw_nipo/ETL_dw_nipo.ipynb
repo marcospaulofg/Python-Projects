{
 "cells": [
  {
   "cell_type": "markdown",
   "id": "73688a61",
   "metadata": {},
   "source": [
    "### Instruções:\n",
    "\n",
    "- Deixe o arquivo `.csv` apenas com os dados, sem o cabeçalho;\n",
    "- Deixe todas as colunas formatadas como `Geral` no Excel, exceto o campo de data, que deve ficar no formato de `Data Abrevidada`;\n",
    "- Certifique-se de que o arquivo `etl.csv` está no mesmo diretório do script."
   ]
  },
  {
   "cell_type": "code",
   "execution_count": null,
   "id": "ab878f66",
   "metadata": {},
   "outputs": [],
   "source": [
    "# Imports necessários\n",
    "import pandas as pd"
   ]
  },
  {
   "cell_type": "code",
   "execution_count": null,
   "id": "567296fd",
   "metadata": {},
   "outputs": [],
   "source": [
    "# Ler o arquivo CSV\n",
    "df = pd.read_csv('etl.csv', sep=';', names=['data_venda', 'num_nota', 'cod_cliente', 'cod_produto',\n",
    "                                              'qtd', 'vl_unit', 'custo_medio', 'id_empresa'])"
   ]
  },
  {
   "cell_type": "code",
   "execution_count": null,
   "id": "8116c319",
   "metadata": {},
   "outputs": [],
   "source": [
    "# Converter colunas para os tipos corretos\n",
    "\n",
    "# String\n",
    "df['num_nota'] = df['num_nota'].astype(str)\n",
    "df['cod_cliente'] = df['cod_cliente'].astype(str)\n",
    "df['cod_produto'] = df['cod_produto'].astype(str)\n",
    "\n",
    "# Trocar ',' por '.'\n",
    "df['vl_unit'] = df['vl_unit'].str.replace(',', '.')\n",
    "df['custo_medio'] = df['custo_medio'].str.replace(',', '.')\n",
    "df['qtd'] = df['qtd'].str.replace(',', '.')\n",
    "\n",
    "# Float\n",
    "df['vl_unit'] = df['vl_unit'].astype(float)\n",
    "df['custo_medio'] = df['custo_medio'].astype(float)\n",
    "df['qtd'] = df['qtd'].astype(float)"
   ]
  },
  {
   "cell_type": "code",
   "execution_count": null,
   "id": "efc87526",
   "metadata": {},
   "outputs": [
    {
     "data": {
      "text/html": [
       "<div>\n",
       "<style scoped>\n",
       "    .dataframe tbody tr th:only-of-type {\n",
       "        vertical-align: middle;\n",
       "    }\n",
       "\n",
       "    .dataframe tbody tr th {\n",
       "        vertical-align: top;\n",
       "    }\n",
       "\n",
       "    .dataframe thead th {\n",
       "        text-align: right;\n",
       "    }\n",
       "</style>\n",
       "<table border=\"1\" class=\"dataframe\">\n",
       "  <thead>\n",
       "    <tr style=\"text-align: right;\">\n",
       "      <th></th>\n",
       "      <th>data_venda</th>\n",
       "      <th>num_nota</th>\n",
       "      <th>cod_cliente</th>\n",
       "      <th>cod_produto</th>\n",
       "      <th>qtd</th>\n",
       "      <th>vl_unit</th>\n",
       "      <th>custo_medio</th>\n",
       "      <th>id_empresa</th>\n",
       "    </tr>\n",
       "  </thead>\n",
       "  <tbody>\n",
       "    <tr>\n",
       "      <th>0</th>\n",
       "      <td>02/06/2025</td>\n",
       "      <td>74495</td>\n",
       "      <td>MUND27</td>\n",
       "      <td>8</td>\n",
       "      <td>10.0</td>\n",
       "      <td>75.00</td>\n",
       "      <td>40.500</td>\n",
       "      <td>2</td>\n",
       "    </tr>\n",
       "    <tr>\n",
       "      <th>1</th>\n",
       "      <td>02/06/2025</td>\n",
       "      <td>74495</td>\n",
       "      <td>MUND27</td>\n",
       "      <td>34</td>\n",
       "      <td>10.0</td>\n",
       "      <td>150.00</td>\n",
       "      <td>90.125</td>\n",
       "      <td>2</td>\n",
       "    </tr>\n",
       "    <tr>\n",
       "      <th>2</th>\n",
       "      <td>02/06/2025</td>\n",
       "      <td>74495</td>\n",
       "      <td>MUND27</td>\n",
       "      <td>37</td>\n",
       "      <td>15.0</td>\n",
       "      <td>70.00</td>\n",
       "      <td>42.630</td>\n",
       "      <td>2</td>\n",
       "    </tr>\n",
       "    <tr>\n",
       "      <th>3</th>\n",
       "      <td>02/06/2025</td>\n",
       "      <td>74501</td>\n",
       "      <td>RAPPI BARRA3</td>\n",
       "      <td>419</td>\n",
       "      <td>4.0</td>\n",
       "      <td>1.75</td>\n",
       "      <td>1.032</td>\n",
       "      <td>2</td>\n",
       "    </tr>\n",
       "    <tr>\n",
       "      <th>4</th>\n",
       "      <td>16/06/2025</td>\n",
       "      <td>74839</td>\n",
       "      <td>SAGA</td>\n",
       "      <td>3901</td>\n",
       "      <td>0.2</td>\n",
       "      <td>5.20</td>\n",
       "      <td>20.780</td>\n",
       "      <td>2</td>\n",
       "    </tr>\n",
       "  </tbody>\n",
       "</table>\n",
       "</div>"
      ],
      "text/plain": [
       "   data_venda num_nota   cod_cliente cod_produto   qtd  vl_unit  custo_medio  \\\n",
       "0  02/06/2025    74495        MUND27           8  10.0    75.00       40.500   \n",
       "1  02/06/2025    74495        MUND27          34  10.0   150.00       90.125   \n",
       "2  02/06/2025    74495        MUND27          37  15.0    70.00       42.630   \n",
       "3  02/06/2025    74501  RAPPI BARRA3         419   4.0     1.75        1.032   \n",
       "4  16/06/2025    74839          SAGA        3901   0.2     5.20       20.780   \n",
       "\n",
       "   id_empresa  \n",
       "0           2  \n",
       "1           2  \n",
       "2           2  \n",
       "3           2  \n",
       "4           2  "
      ]
     },
     "execution_count": 33,
     "metadata": {},
     "output_type": "execute_result"
    }
   ],
   "source": [
    "# Visualizar os dados\n",
    "df.head()"
   ]
  },
  {
   "cell_type": "code",
   "execution_count": 32,
   "id": "f4823f13",
   "metadata": {},
   "outputs": [
    {
     "name": "stdout",
     "output_type": "stream",
     "text": [
      "INSERT INTO fato_venda_cd (data_venda, num_nota, cod_cliente, cod_produto, qtd, vl_unit, custo_medio, id_empresa)\n",
      "VALUES ('02/06/2025', '74495', 'MUND27', '8', 10.0, 75.00, 40.50, 2),\n",
      "('02/06/2025', '74495', 'MUND27', '34', 10.0, 150.00, 90.12, 2),\n",
      "('02/06/2025', '74495', 'MUND27', '37', 15.0, 70.00, 42.63, 2),\n",
      "('02/06/2025', '74501', 'RAPPI BARRA3', '419', 4.0, 1.75, 1.03, 2),\n",
      "('16/06/2025', '74839', 'SAGA', '3901', 0.2, 5.20, 20.78, 2)\n"
     ]
    }
   ],
   "source": [
    "# Função para formatar cada linha no formato desejado para o comando SQL\n",
    "def formatar_linha(row):\n",
    "    return \"('{}', '{}', '{}', '{}', {}, {:.2f}, {:.2f}, {}),\".format(\n",
    "        row['data_venda'], \n",
    "        row['num_nota'], \n",
    "        row['cod_cliente'], \n",
    "        row['cod_produto'], \n",
    "        row['qtd'], \n",
    "        row['vl_unit'], \n",
    "        row['custo_medio'], \n",
    "        row['id_empresa']\n",
    "    )\n",
    "\n",
    "# Aplicando a função para formatar todas as linhas\n",
    "resultado = df.apply(formatar_linha, axis=1)\n",
    "\n",
    "# Começando o comando SQL\n",
    "sql_comando = \"INSERT INTO fato_venda_cd (data_venda, num_nota, cod_cliente, cod_produto, qtd, vl_unit, custo_medio, id_empresa)\\nVALUES \"\n",
    "\n",
    "# Concatenando todas as linhas formatadas no comando SQL\n",
    "sql_comando += \"\\n\".join(resultado)\n",
    "\n",
    "# Removendo a vírgula após o último valor\n",
    "sql_comando = sql_comando.rstrip(',')\n",
    "\n",
    "# Exibindo o comando SQL final\n",
    "print(sql_comando)"
   ]
  }
 ],
 "metadata": {
  "kernelspec": {
   "display_name": "base",
   "language": "python",
   "name": "python3"
  },
  "language_info": {
   "codemirror_mode": {
    "name": "ipython",
    "version": 3
   },
   "file_extension": ".py",
   "mimetype": "text/x-python",
   "name": "python",
   "nbconvert_exporter": "python",
   "pygments_lexer": "ipython3",
   "version": "3.12.9"
  }
 },
 "nbformat": 4,
 "nbformat_minor": 5
}
