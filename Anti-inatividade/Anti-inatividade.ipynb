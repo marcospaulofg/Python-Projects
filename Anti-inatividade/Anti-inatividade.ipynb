{
 "cells": [
  {
   "cell_type": "code",
   "execution_count": 1,
   "id": "1c08df92-05ea-403d-9738-ff8f67c4bd1f",
   "metadata": {},
   "outputs": [],
   "source": [
    "import pyautogui as pg\n",
    "import keyboard as k\n",
    "import random\n",
    "import time"
   ]
  },
  {
   "cell_type": "code",
   "execution_count": 2,
   "id": "36d21b04-c281-4f3e-88c4-31487736ff87",
   "metadata": {},
   "outputs": [
    {
     "name": "stderr",
     "output_type": "stream",
     "text": [
      "\n",
      "KeyboardInterrupt\n",
      "\n"
     ]
    }
   ],
   "source": [
    "# Simular o movimento e click do mouse para evitar inativadade do pc ou de algum software\n",
    "\n",
    "pg.hotkey('ctrl','tab')\n",
    "while True:\n",
    "    x = 200\n",
    "    y = 300\n",
    "    pg.moveTo(x, y, 0.5)  # posições da tela que o mouse ficará\n",
    "    x = 300\n",
    "    y = 300\n",
    "    pg.moveTo(x, y, 0.5)  # posições da tela que o mouse irá\n",
    "    pg.click(x=300, y=300, clicks=2, interval=0.25)  # duplo click do mouse em 0.25s\n",
    "    pg.hotkey('ctrl','c')\n",
    "    pg.hotkey('backspace')\n",
    "    pg.hotkey('ctrl','v')  # copia o texto selecionado, substitui por espaço e depois cola novamente\n",
    "    time.sleep(5)  # aguardar 5s para repetir a operação\n",
    "    if k.is_pressed(\"w\"):  # Parar a operação caso aperte W no teclado\n",
    "        break"
   ]
  }
 ],
 "metadata": {
  "kernelspec": {
   "display_name": "Python 3 (ipykernel)",
   "language": "python",
   "name": "python3"
  },
  "language_info": {
   "codemirror_mode": {
    "name": "ipython",
    "version": 3
   },
   "file_extension": ".py",
   "mimetype": "text/x-python",
   "name": "python",
   "nbconvert_exporter": "python",
   "pygments_lexer": "ipython3",
   "version": "3.11.7"
  }
 },
 "nbformat": 4,
 "nbformat_minor": 5
}
