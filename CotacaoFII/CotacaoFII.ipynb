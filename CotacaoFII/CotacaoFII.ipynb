{
 "cells": [
  {
   "cell_type": "markdown",
   "metadata": {},
   "source": [
    "# Cotação de FIIs"
   ]
  },
  {
   "cell_type": "markdown",
   "metadata": {},
   "source": [
    "Script que extrai a cotação atualizada de cotas de fundos imobiliários escolhidas para um arquivo .csv."
   ]
  },
  {
   "cell_type": "code",
   "execution_count": null,
   "metadata": {
    "tags": []
   },
   "outputs": [],
   "source": [
    "# Instalação das bibliotecas\n",
    "#!pip install requests --quiet\n",
    "#!pip install pandas --quiet\n",
    "#!pip install beautifulsoup4 --quiet\n",
    "#!pip install matplotlib"
   ]
  },
  {
   "cell_type": "code",
   "execution_count": 1,
   "metadata": {},
   "outputs": [],
   "source": [
    "# Importando as bibliotecas\n",
    "import datetime\n",
    "import requests\n",
    "import numpy as np\n",
    "import pandas as pd\n",
    "from bs4 import BeautifulSoup\n",
    "import matplotlib.pyplot as plt\n",
    "import warnings\n",
    "warnings.filterwarnings('ignore')"
   ]
  },
  {
   "cell_type": "code",
   "execution_count": 2,
   "metadata": {
    "tags": []
   },
   "outputs": [
    {
     "name": "stdout",
     "output_type": "stream",
     "text": [
      "Concluído às 14:13:33 de 03/02/2025\n"
     ]
    }
   ],
   "source": [
    "# URL com a tabela de dados\n",
    "url = \"https://www.fundamentus.com.br/fii_resultado.php\"\n",
    "\n",
    "# Obtendo o conteúdo da página em formato de texto\n",
    "\n",
    "# https://stackoverflow.com/questions/68259148/getting-404-error-for-certain-stocks-and-pages-on-yahoo-finance-python\n",
    "headers = { \n",
    "    'User-Agent'      : 'Mozilla/5.0 (Windows NT 10.0; Win64; x64) AppleWebKit/537.36 (KHTML, like Gecko) Chrome/71.0.3578.98 Safari/537.36', \n",
    "    'Accept'          : 'text/html,application/xhtml+xml,application/xml;q=0.9,*/*;q=0.8', \n",
    "    'Accept-Language' : 'en-US,en;q=0.5',\n",
    "    'DNT'             : '1', # Do Not Track Request Header \n",
    "    'Connection'      : 'close'\n",
    "}\n",
    "data = requests.get(url, headers=headers, timeout=5).text\n",
    "soup = BeautifulSoup(data,\"html.parser\")\n",
    "\n",
    "# Procurando a tabela da página\n",
    "table = soup.find('table') # em html uma tabela é representada pela tag <table>\n",
    "\n",
    "# Definindo dataframe\n",
    "df = pd.DataFrame(columns=['Papel', 'Tipo', 'Segmento', 'Administradora', 'Cotação', 'DY (12M)', 'DY Atual', 'PVP',\n",
    "                 'Liquidez diária', 'Valor Patrimonial', 'Valor de mercado','Vacância média',\n",
    "                 'Último dividendo', 'Magic Number', 'Valor do Magic Number', 'FFO Yield', \n",
    "                 'Cap Rate', 'Qtd de imóveis', 'Preço do m²', 'Aluguel por m²'])\n",
    "\n",
    "# Obtendo todas as linhas da tabela\n",
    "for row in table.tbody.find_all('tr'): # em html uma linha da tabela é representada pela tag <tr>\n",
    "    # Obtendo todas as colunas em cada linha\n",
    "    columns = row.find_all('td')  # em html uma coluna da tabela é representada pela tag <td>\n",
    "    if(columns != []):\n",
    "        papel = columns[0].text.strip(' ')\n",
    "        segmento = columns[1].text.strip(' ')\n",
    "        cotacao = columns[2].text.strip(' ')\n",
    "        ffo = columns[3].text.strip(' ')\n",
    "        dy12 = columns[4].text.strip(' ')\n",
    "        pvp = columns[5].text.strip(' ')\n",
    "        vlrmercado = columns[6].text.strip(' ')\n",
    "        liqdiaria = columns[7].text.strip(' ')\n",
    "        qtdimoveis = columns[8].text.strip(' ')\n",
    "        precom2 = columns[9].text.strip(' ')\n",
    "        aluguelm2 = columns[10].text.strip(' ')\n",
    "        caprate = columns[11].text.strip(' ')\n",
    "        vacancia = columns[12].text.strip(' ')\n",
    "        df = pd.concat([df, pd.DataFrame.from_records([{'Papel': papel,  'Segmento': segmento, 'Cotação': cotacao,\n",
    "                                                        'FFO Yield': ffo, 'DY (12M)': dy12, 'PVP':pvp, 'Valor de mercado': vlrmercado,\n",
    "                                                        'Liquidez diária': liqdiaria, 'Qtd de imóveis': qtdimoveis,\n",
    "                                                        'Preço do m²': precom2, 'Aluguel por m²': aluguelm2,\n",
    "                                                        'Cap Rate': caprate, 'Vacância média': vacancia}])], ignore_index=True)\n",
    "\n",
    "listaFiltro = ['BRCR11', 'BTCI11', 'BTLG11', 'CPTS11', 'GARE11', 'HGBS11', 'HGLG11', 'HGRE11', 'HGRU11', 'JSRE11', 'KNCA11',\n",
    "               'KNCR11', 'KNRI11', 'KNSC11', 'MALL11', 'MXRF11', 'SNAG11', 'URPR11', 'VGHF11', 'VGIA11', 'VINO11', 'VISC11',\n",
    "               'XPCA11', 'XPLG11', 'XPML11']\n",
    "\n",
    "df = df[df.Papel.isin(listaFiltro)]\n",
    "df = df.reset_index(drop=True)\n",
    "\n",
    "for item in listaFiltro:\n",
    "    url=\"https://www.fundamentus.com.br/fii_proventos.php?papel=\"+item+\"&tipo=2\"\n",
    "    data = requests.get(url, headers=headers, timeout=5).text\n",
    "    soup = BeautifulSoup(data,\"html.parser\")\n",
    "    table = soup.find('table') # em html uma tabela é representada pela tag <table>\n",
    "    df2 = pd.DataFrame(columns=['Último dividendo'])\n",
    "    for row in table.tbody.find_all('tr'): # em html uma linha da tabela é representada pela tag <tr>\n",
    "        columns = row.find_all('td') # em html uma coluna da tabela é representada pela tag <td>\n",
    "        if(columns != []):\n",
    "            dividendo = columns[3].text.strip(' ')\n",
    "            df2 = pd.concat([df2, pd.DataFrame.from_records([{'Último dividendo': dividendo}])], ignore_index=True)\n",
    "    df['Último dividendo'].iloc[listaFiltro.index(item)]=df2.iloc[0,0]\n",
    "\n",
    "for item in listaFiltro:\n",
    "    url=\"https://investidor10.com.br/fiis/\"+item\n",
    "    data = requests.get(url, headers=headers, timeout=5).text\n",
    "    soup = BeautifulSoup(data,\"html.parser\")\n",
    "    adm = soup.find('h2', class_=\"name-company\").get_text()\n",
    "    tipo = soup.findAll(True, {'class':['value']})[6].get_text()[34:-30]\n",
    "    segmento = soup.findAll(True, {'class':['value']})[5].get_text()[34:-30]\n",
    "    df['Administradora'].iloc[listaFiltro.index(item)] = adm\n",
    "    df['Tipo'].iloc[listaFiltro.index(item)] = tipo\n",
    "    df['Segmento'].iloc[listaFiltro.index(item)] = segmento\n",
    "    \n",
    "for item in listaFiltro:\n",
    "    url=\"https://www.fundamentus.com.br/detalhes.php?papel=\"+item\n",
    "    data = requests.get(url, headers=headers, timeout=5).text\n",
    "    soup = BeautifulSoup(data,\"html.parser\")\n",
    "    vlrpatrimonial = soup.findAll(True, {'class':['txt']})[75].get_text()\n",
    "    df['Valor Patrimonial'].iloc[listaFiltro.index(item)] = vlrpatrimonial    \n",
    "\n",
    "df['Cotação'] = df['Cotação'].replace({',': '.'}, regex=True)\n",
    "df['Último dividendo'] = df['Último dividendo'].replace({',': '.'}, regex=True)\n",
    "df['Cotação'] = df['Cotação'].astype(float)\n",
    "df['Último dividendo'] = df['Último dividendo'].astype(float)\n",
    "df['Magic Number'] = (df['Cotação'] / df['Último dividendo']).apply(np.ceil) \n",
    "df['Valor do Magic Number'] = (df['Magic Number'] * df['Cotação']).round(2)\n",
    "df['DY Atual'] = ((((df['Último dividendo'] / df['Cotação'] + 1)**12) -1)* 100).round(2)\n",
    "\n",
    "df['Cotação'] = df['Cotação'].astype(str)\n",
    "df['Último dividendo'] = df['Último dividendo'].astype(str)\n",
    "df['Valor do Magic Number'] = df['Valor do Magic Number'].astype(str)\n",
    "df['DY Atual'] = df['DY Atual'].astype(str)\n",
    "df['Magic Number'] = df['Magic Number'].astype(int)\n",
    "\n",
    "df['Cotação'] = df['Cotação'].str.replace('.', ',')\n",
    "df['Último dividendo'] = df['Último dividendo'].str.replace('.', ',')\n",
    "df['Valor do Magic Number'] = df['Valor do Magic Number'].str.replace('.', ',')\n",
    "df['DY Atual'] = df['DY Atual'].str.replace('.', ',')+\"%\"\n",
    "\n",
    "df.to_csv(r'C:/1/FII.csv', index = False, encoding = 'utf-8-sig')\n",
    "print(\"Concluído às \" + datetime.datetime.now().strftime(\"%H:%M:%S de %d/%m/%Y\"))\n",
    "#df"
   ]
  }
 ],
 "metadata": {
  "interpreter": {
   "hash": "ac59ebe37160ed0dfa835113d9b8498d9f09ceb179beaac4002f036b9467c963"
  },
  "kernelspec": {
   "display_name": "Python 3 (ipykernel)",
   "language": "python",
   "name": "python3"
  },
  "language_info": {
   "codemirror_mode": {
    "name": "ipython",
    "version": 3
   },
   "file_extension": ".py",
   "mimetype": "text/x-python",
   "name": "python",
   "nbconvert_exporter": "python",
   "pygments_lexer": "ipython3",
   "version": "3.11.7"
  }
 },
 "nbformat": 4,
 "nbformat_minor": 4
}
